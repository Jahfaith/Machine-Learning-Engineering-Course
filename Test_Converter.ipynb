{
 "cells": [
  {
   "cell_type": "code",
   "execution_count": null,
   "id": "02e5261d",
   "metadata": {},
   "outputs": [],
   "source": [
    "import unittest\n",
    "from Converter import Convert_temperature, Convert_weight, Convert_currency"
   ]
  },
  {
   "cell_type": "code",
   "execution_count": null,
   "id": "bd46d128",
   "metadata": {
    "scrolled": true
   },
   "outputs": [],
   "source": [
    "class TestConverter(unittest.TestCase):\n",
    "    '''Unit test for the Convert_temperature class'''\n",
    "    \n",
    "    def test_celTofah(self):\n",
    "        result = Convert_temperature.celTofah(20)\n",
    "        self.assertEqual(result, 68)\n",
    "        \n",
    "    def test_kelTocel(self):\n",
    "        result = Convert_temperature.kelTocel(38)\n",
    "        self.assertEqual(result, 235.14)\n",
    "        \n",
    "    def test_fahTokel(self):\n",
    "        result = Convert_temperature.fahTokel(14)\n",
    "        self.assertEqual(result, 263.15)\n",
    "        \n",
    "    '''test for the Convert_weight class'''\n",
    "    def test_kgTogram(self):\n",
    "        result = Convert_weight.kgTogram(1.2)\n",
    "        self.assertEqual(result, 1200)\n",
    "        \n",
    "    def test_poundsTokg(self):\n",
    "        result = Convert_weight.poundsTokg(10)\n",
    "        self.assertEqual(result, 4.536)\n",
    "        \n",
    "    def test_gramTopounds(self):\n",
    "        result = Convert_weight.gramTopounds(40)\n",
    "        self.assertEqual(result, 0.088)\n",
    "        \n",
    "    '''test for the Convert_currency class'''\n",
    "    def test_nairaTodollar(self):\n",
    "        result = Convert_currency.nairaTodollar(63000)\n",
    "        self.assertEqual(result, 152.90)\n",
    "        \n",
    "    def test_euroTonaira(self):\n",
    "        result = Convert_currency.euroTonaira(120)\n",
    "        self.assertEqual(result, 58192.80)\n",
    "        \n",
    "    def test_dollarToeuro(self):\n",
    "        result = Convert_currency.dollarToeuro(100)\n",
    "        self.assertEqual(result, 84.74)\n",
    "        \n",
    "tests = TestConverter()\n",
    "\n",
    "tests_loaded = unittest.TestLoader().loadTestsFromModule(tests)\n",
    "\n",
    "unittest.TextTestRunner().run(tests_loaded)"
   ]
  },
  {
   "cell_type": "code",
   "execution_count": null,
   "id": "09438d50",
   "metadata": {},
   "outputs": [],
   "source": []
  }
 ],
 "metadata": {
  "kernelspec": {
   "display_name": "Python 3",
   "language": "python",
   "name": "python3"
  },
  "language_info": {
   "codemirror_mode": {
    "name": "ipython",
    "version": 3
   },
   "file_extension": ".py",
   "mimetype": "text/x-python",
   "name": "python",
   "nbconvert_exporter": "python",
   "pygments_lexer": "ipython3",
   "version": "3.8.8"
  }
 },
 "nbformat": 4,
 "nbformat_minor": 5
}

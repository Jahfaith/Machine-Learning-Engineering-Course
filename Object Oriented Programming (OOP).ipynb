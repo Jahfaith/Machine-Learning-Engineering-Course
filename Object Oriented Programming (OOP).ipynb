{
 "cells": [
  {
   "cell_type": "markdown",
   "id": "1ca5e30c",
   "metadata": {},
   "source": [
    "## Object Oriented Programming (OOP)\n",
    "\n",
    "It has basically two elements.\n",
    "1. Attributes -These are characteristics of the object.\n",
    "2. Methods    -These are functions/actions performed by the object\n",
    "\n",
    "Example\n",
    "1. Given a dog as the object, its Attributes(characteristics) include height, colour, breed, number of limbs etc while its Method(actions/functions) include hunting, guarding etc\n",
    "\n",
    "2. If an object is supposed to fetch the area of a rectangle, its Attributes will be length and breadth, while its Method will be to output area, eg .area()\n",
    "\n",
    "#### Class\n",
    "\n",
    "A Class is a generic blueprint. From example 1 above, some dogs can be classified under a class if they have same Attributes(characteristics) and perform same function. \n",
    "Hence, a Class refers to a format and objects whose Attributes and Methods are in line with that format are said to belong to that Class."
   ]
  },
  {
   "cell_type": "markdown",
   "id": "fad3c9dd",
   "metadata": {},
   "source": [
    "#### EXERCISE 1\n",
    "\n",
    "Create a Shirt Class with the following elements:\n",
    "1. attributes include colour, style, size, and price.\n",
    "2. methods are update price, and discount."
   ]
  },
  {
   "cell_type": "code",
   "execution_count": 1,
   "id": "fc23ee53",
   "metadata": {},
   "outputs": [],
   "source": [
    "class Shirt():\n",
    "    # initialize the attributes of the class.\n",
    "    def __init__(self, colour, style, size, price):\n",
    "        self.colour = colour\n",
    "        self.style = style\n",
    "        self.size = size\n",
    "        self.price = price\n",
    "        \n",
    "    # define a method for updating price. \n",
    "    def price_update(self, new_price):\n",
    "        self.price = new_price # we used self.price instead of self.new_price so that the general price for the shirt reflects the change/update.\n",
    "        return \"Price successfully updated!\"\n",
    "    \n",
    "    # define a method for calculating amount to be paid on a discounted commodity (shirt).\n",
    "    def discount(self, discount):\n",
    "        self.price = self.price * (1 - discount) # we used self.price instead of self.discount so that the discount reflects in the price (as the new price) after inputed/provided.\n",
    "        print('Price after discount is', self.price)"
   ]
  },
  {
   "cell_type": "markdown",
   "id": "af41c90a",
   "metadata": {},
   "source": [
    "Sometimes, you may want to break your Class down into small chunks of codes to test that they perform the exact function required of them. Let's do this for the discount function."
   ]
  },
  {
   "cell_type": "code",
   "execution_count": 2,
   "id": "6111e88b",
   "metadata": {},
   "outputs": [
    {
     "data": {
      "text/plain": [
       "0.8"
      ]
     },
     "execution_count": 2,
     "metadata": {},
     "output_type": "execute_result"
    }
   ],
   "source": [
    "# Testing our discount formula.\n",
    "\n",
    "discount = 0.2\n",
    "price = 30\n",
    "1 - discount"
   ]
  },
  {
   "cell_type": "code",
   "execution_count": 3,
   "id": "133f5da5",
   "metadata": {},
   "outputs": [
    {
     "data": {
      "text/plain": [
       "24.0"
      ]
     },
     "execution_count": 3,
     "metadata": {},
     "output_type": "execute_result"
    }
   ],
   "source": [
    "price * (1 - discount)"
   ]
  },
  {
   "cell_type": "markdown",
   "id": "e75b6936",
   "metadata": {},
   "source": [
    "Let's test our class."
   ]
  },
  {
   "cell_type": "code",
   "execution_count": 4,
   "id": "19d9c4dc",
   "metadata": {},
   "outputs": [
    {
     "data": {
      "text/plain": [
       "<__main__.Shirt at 0x2425c0bffd0>"
      ]
     },
     "execution_count": 4,
     "metadata": {},
     "output_type": "execute_result"
    }
   ],
   "source": [
    "# Creating an instance of the Shirt class.\n",
    "my_shirt = Shirt('red', 'sleeveless', 'B', 12)\n",
    "my_shirt"
   ]
  },
  {
   "cell_type": "code",
   "execution_count": 5,
   "id": "3f4ab208",
   "metadata": {},
   "outputs": [
    {
     "name": "stdout",
     "output_type": "stream",
     "text": [
      "I have a sleeveless B red gown that I bought for 12 dollar.\n"
     ]
    }
   ],
   "source": [
    "# Let's check the attributes of my_shirt.\n",
    "\n",
    "print('I have a', my_shirt.style, my_shirt.size, my_shirt.colour, 'gown that I bought for', my_shirt.price, 'dollar.')"
   ]
  },
  {
   "cell_type": "code",
   "execution_count": 6,
   "id": "1632bf02",
   "metadata": {},
   "outputs": [
    {
     "data": {
      "text/plain": [
       "10"
      ]
     },
     "execution_count": 6,
     "metadata": {},
     "output_type": "execute_result"
    }
   ],
   "source": [
    "# Let's make some updates.\n",
    "# Price changes from $12 to $10 due to low demand.\n",
    "\n",
    "my_shirt.price_update(10)\n",
    "my_shirt.price"
   ]
  },
  {
   "cell_type": "code",
   "execution_count": 7,
   "id": "0a757514",
   "metadata": {},
   "outputs": [
    {
     "data": {
      "text/plain": [
       "'Price successfully updated!'"
      ]
     },
     "execution_count": 7,
     "metadata": {},
     "output_type": "execute_result"
    }
   ],
   "source": [
    "# If we just want to see the update message.\n",
    "my_shirt.price_update(10)"
   ]
  },
  {
   "cell_type": "code",
   "execution_count": 8,
   "id": "b9068c70",
   "metadata": {},
   "outputs": [
    {
     "name": "stdout",
     "output_type": "stream",
     "text": [
      "Price after discount is 7.0\n"
     ]
    }
   ],
   "source": [
    "# If a discount of 30% is given to buyers of the gown, then the price of the gown will be:\n",
    "\n",
    "my_shirt.discount(0.3)"
   ]
  },
  {
   "cell_type": "code",
   "execution_count": null,
   "id": "91e59a0f",
   "metadata": {},
   "outputs": [],
   "source": []
  },
  {
   "cell_type": "markdown",
   "id": "8e76453d",
   "metadata": {},
   "source": [
    "#### EXERCISE 2\n",
    "\n",
    "Write a Gaussian distribution class for calculating and visualizing a gaussian distribution."
   ]
  },
  {
   "cell_type": "code",
   "execution_count": null,
   "id": "9081f0d1",
   "metadata": {},
   "outputs": [],
   "source": [
    "import math\n",
    "import matplotlib.pyplot as plt"
   ]
  }
 ],
 "metadata": {
  "kernelspec": {
   "display_name": "Python 3",
   "language": "python",
   "name": "python3"
  },
  "language_info": {
   "codemirror_mode": {
    "name": "ipython",
    "version": 3
   },
   "file_extension": ".py",
   "mimetype": "text/x-python",
   "name": "python",
   "nbconvert_exporter": "python",
   "pygments_lexer": "ipython3",
   "version": "3.8.8"
  }
 },
 "nbformat": 4,
 "nbformat_minor": 5
}
